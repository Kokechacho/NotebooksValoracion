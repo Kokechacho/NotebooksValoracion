{
  "metadata": {
    "kernelspec": {
      "name": "python",
      "display_name": "Python (Pyodide)",
      "language": "python"
    },
    "language_info": {
      "codemirror_mode": {
        "name": "python",
        "version": 3
      },
      "file_extension": ".py",
      "mimetype": "text/x-python",
      "name": "python",
      "nbconvert_exporter": "python",
      "pygments_lexer": "ipython3",
      "version": "3.8"
    }
  },
  "nbformat_minor": 5,
  "nbformat": 4,
  "cells": [
    {
      "id": "75057af5-6e2f-4607-906d-8d6cf77d69c0",
      "cell_type": "markdown",
      "source": "# Contratos de opciones\n\n## 1. Introducción\n\nUn contrato de opciones es **un acuerdo bilateral** que otorga al comprador el derecho, **pero no la obligación**, de comprar (en el caso de una opción de compra o \"call option\") o vender (en el caso de una opción de venta o \"put option\") un activo subyacente a **un precio determinado** (llamado precio de ejercicio) en una **fecha futura específica** o antes de esa fecha. **El vendedor de la opción**, también conocido como el escritor, **tiene la obligación de vender o comprar el activo subyacente** si el comprador ejerce su derecho. Los contratos de opciones son instrumentos financieros derivados, lo que significa que **su valor se deriva del valor del activo subyacente**.\n\n",
      "metadata": {}
    },
    {
      "id": "c6cdf8e9-5e0b-4cb0-b067-27d1715cbb56",
      "cell_type": "markdown",
      "source": "Es decir, distinguimos varios elementos característicos:\n\n* **🛺 Activo subyacente**: Activo sobre el cual se constituye la opción. Pueden ser bienes materiales o productos financieros como acciones.\n* **🤑 Precio de ejercicio (Strike)**: Cantidad pactada en el contrato de opción por la cual se efectuará la transacción, ya sea de venta o de compra.\n*  **🥇 Prima**: Precio o señal otorgada al emisor de la opción para llevar a cabo el contrato.\n",
      "metadata": {}
    },
    {
      "id": "49cbc884-727f-47aa-b71c-beb5557fca63",
      "cell_type": "markdown",
      "source": "Para valorar el precio de esta **prima** debemos atenernos a un valor intrínseco y otro extrínseco.\n\n* **⚓ El valor esencial o intrínseco** es el precio que costaría realizar la operación en ese momento sobre el activo subyacente.\n\n* * Podríamos calcularlo como: Precio del activo subyacente (S) - Precio del ejercicio de opción CALL\n\n* * O bien como: Precio del ejercicio de opción PUT - Precio del activo subyacente (S)\n \n\n### Ejercicio 1\n\nEstamos negociando con una librera para que nos reserve un libro. \n\n* Ese libro estará a la venta en un mes por 60€ en el mercado.\n\n1. La librera nos está pidiendo 10€ por la reserva, lo cual encarece el precio del libro hasta los 70€ por lo que no estaríamos dispuestos a aceptar la reserva, pues el libro cuesta 60€.\n\n2. Entonces, a priori, estariamos dispuestos a pagar por la reserva 10€, solo si el precio final a pagar son 50€, dando como resultado su valor inicial de 60€.\n\n**Calcula el valor intrínseco** de ambas alternativas.\n\nHaga sus cálculos con Python en las casillas de abajo\n\n*--Ejecuta el código con Shift + Enter--*",
      "metadata": {}
    },
    {
      "id": "4492e26c-92b4-45e8-a9c6-aa71e021a1e1",
      "cell_type": "code",
      "source": "# ------------- AQUI VA TU CÓDIGO -----------------------------\n",
      "metadata": {},
      "outputs": [],
      "execution_count": null
    },
    {
      "id": "4cc902a6-56ba-4f39-a967-27a44d3ee297",
      "cell_type": "markdown",
      "source": "<div style=\"background-color: #AED6F1; padding: 10px;\">\n    <details style=\"color: black;\">\n        <summary>Solución</summary>\n\n    >> En la primera opción no estaríamos dispuestos a pagar por la reserva, por lo que el valor intrínseco sería de 70€.\n\n    >> En la segunda opción sí pagaríamos la reserva ya que sale igual de precio, por lo que el valor intrínseco sería de 50€ (60-10).\n    \n</div>",
      "metadata": {}
    },
    {
      "id": "6d06f1c8-86d5-4012-b8bf-30f27ccad8ae",
      "cell_type": "markdown",
      "source": "* **⏳ El valor temporal o extrínseco** es la incertidumbre de lo que podría variar el valor intrínseco durante el periodo de vigencia de una opción.\n\nSiguiendo el ejercicio anterior, imagine que se preveé que ese libro sea un *Best Seller* y se agoten rápidamente las copias. \n\nQuizás la alternativa de la librera sea más segura, **pues te garantiza que el libro vaya a llegarte**, a pesar de ese sobrecoste.\n\nEsas posibles fluctuaciones del precio del libro son lo que llamamos como valor temporal.\n\n---\n\n## 2. Tipos de opciones\n\nEn el mercado existen dos tipos de contratos:\n\n1. **🧾 Contrato CALL**: opciones de **compra** con **derecho** del comprador.\n2. **🗳️ Contrato PULL**: opciones de **venta** con **obligación** del vendedor.\n\nEntonces podemos encontrarnos con 4 situaciones:\n\n| | Compra  | Venta |\r|-|:-------:|:------:|\n| **CALL** | El comprador obtiene un derecho a compra de un activo a un precio determinado pagando una prima (Expectativa del comprador de que el precio subirá más de lo que se ha prefijado) | El vendedor obtiene una obligación de venta de un activo a un determinado precio cobrando una prima (Expectativa del vendedor de que el precio baje y quede por debajo del precio prefijado) |\n| **PUT** | El comprador obtiene un derecho a venta de un activo a un precio determinado pagando una prima (Expectativa del comprador de que el precio baje más de lo que se ha prefijado) | El vendedor obtiene una obligación de compra de un activo a un precio determinado cobrando una prima (Expectativa del vendedor de que el precio suba y quede por encima del precio prefijado) |       |",
      "metadata": {}
    },
    {
      "id": "000ae497-7359-4f4c-91c4-0d66962c60aa",
      "cell_type": "markdown",
      "source": "### Ejercicio 2\n\n**Compra de CALL**\n\nQueremos ir de viaje para dentro de un mes para trabajar en la bolsa, pero tú, encargado de hacer la reserva no sabes con certeza si podrás ir, al igual que tus amigos. La agencia de viajes entonces te propone dos alternativas:\n\n1. Fijar el precio en 4000€ y pagar 400€ de señal.\n2. Fijar el precio en 4800€ pero con la opción de abonarlo una semana antes del viaje.\n\n¿Cuál te interesaría comprar? Razónalo.  ",
      "metadata": {}
    },
    {
      "id": "8841a2ea-b05b-4319-a194-af48cab9ef9e",
      "cell_type": "markdown",
      "source": "<div style=\"background-color: #AED6F1; padding: 10px;\">\n    <details style=\"color: black;\">\n        <summary>Solución</summary>\n\n    >> Te interesa la opción 2, compras el derecho a compra del viaje.\n    \n    >> Debido a que, no solo te sale más barato que la otra opción, sino que:\n    \n    1. Te permite buscar por viajes más económicos sin riesgo a perder tu derecho de viajar.\n    2. Si no encuentras nada mejor, tienes ese mismo derecho a priori.\n    3. Si la agencia encarece el precio, podrías vender ese derecho obteniendo beneficio.\n    \n</div>",
      "metadata": {}
    },
    {
      "id": "df55d0ab-bdf3-40d1-9e0b-ee045e4dfb31",
      "cell_type": "markdown",
      "source": "---\n**Venta de CALL**\n\nEstás operando en bolsa y tienes varios activos a tu disposición que quieres vender.\n\n1. El activo A crees que **va a subir bastante** en los próximos días. \n2. El activo B **se mantendrá estable** seguramente.\n3. El activo C intuyes que **va a bajar** de precio.\n\n* Actualmente **todos cuestan 100€ y los venderías por 110€**.\n  \nAhora necesitas deducir **cuál crees que saldrá más rentable** de vender su opción de compra **con una señal de 5€** (derecho de compra).\n\n*--Ejecuta el código de abajo con Shift + Enter--*\n\n### *--Elige un activo antes de ejecutarlo, sino dará error--*",
      "metadata": {}
    },
    {
      "id": "174dd7b8-ddf5-452b-a37a-028784a12bf3",
      "cell_type": "code",
      "source": "# ------------- NO MODIFICAR ESTE CÓDIGO -------------------------\n\nimport random\nimport time\n\n# -----------USA UNO DE ESTOS ACTIVOS -------------\n# activo = \"A\"\n# activo = \"B\"\n# activo = \"C\"\n\ndef ventaCALL(activo, precio, venta):\n    \n    if (activo == \"A\"):\n        inf = -1\n        sup = 5\n    elif (activo == \"B\"):\n        inf = -1\n        sup = 1\n    else:\n        inf = -5\n        sup = 1\n    \n    for i in range(8):\n        # Generar un cambio aleatorio en el precio\n        cambio = random.uniform(inf, sup)  # Cambio aleatorio entre inf y sup\n        precio += cambio\n        \n        # Imprimir el precio y el cambio\n        if cambio >= 0:\n            print(f\"Precio: {precio:.2f} (+{cambio:.2f})\")\n        else:\n            print(f\"Precio: {precio:.2f} ({cambio:.2f})\")\n        \n        # Esperar un segundo antes de la próxima iteración\n        time.sleep(1)\n\n    if (precio >= venta):\n        print(f\"El comprador acepta tu oferta y tú vendes por {venta:.2f} pero PIERDES oportunidad de obtener más beneficio ya que el activo vale más (Actualmente valorado en: {precio:.2f})\" )\n    if (precio < venta):\n        print(\"El comprador no quiere adquirir ese activo a un sobreprecio, así que rechaza tu oferta, pero tú has GANADO 5€ de señal\")\n        \n# Precio inicial y de venta\nprecio = 100\nventa = 110\n\nventaCALL(activo, precio, venta)",
      "metadata": {
        "trusted": true
      },
      "outputs": [
        {
          "name": "stdout",
          "text": "Precio: 101.83 (+1.83)\nPrecio: 101.16 (-0.67)\nPrecio: 103.36 (+2.20)\nPrecio: 103.78 (+0.42)\nPrecio: 102.92 (-0.86)\nPrecio: 104.38 (+1.46)\nPrecio: 103.41 (-0.97)\nPrecio: 106.46 (+3.06)\nEl comprador no quiere adquirir ese activo a un sobreprecio, así que rechaza tu oferta, pero tú has GANADO 5€ de señal\n",
          "output_type": "stream"
        }
      ],
      "execution_count": 2
    },
    {
      "id": "0d9b66d3-c6bf-46bc-b9d2-b860862ddfd4",
      "cell_type": "markdown",
      "source": "---\n**Compra PUT**\n\nImagina que operas de nuevo en bolsa. Ya has vendido tu activo C. Por lo que te queda el A y el B. Y decides operar sobre el B.\n\n* El activo B está valorado en 100€\n\nNo obstante, crees con cierta seguridad que el activo B va a bajar mucho de precio (de 100 a 85 aproximadamente en los próximos 8 meses). y tú te quieres proteger de esa bajada.\n\nPor tanto, estima razonadamente cuál de estas alternativas es la más rentable.\n\n1. Comprar un derecho de venta a 3€ la prima con un precio de ejercicio de 85€.\n2. Comprar un derecho de venta a 5€ la prima con un precio de ejercicio de 95€.\n3. Comprar un derecho de venta a 1€ la prima con un precio de ejercicio de 75€.\n\nHaga sus cálculos con Python en las casillas de abajo   ",
      "metadata": {}
    },
    {
      "id": "b6e04170-aa99-46d3-bcc8-627fc8ba3c14",
      "cell_type": "code",
      "source": "# ------------- AQUI VA TU CÓDIGO -----------------------------\n\n# EJEMPLO\nprecio_al_que_va_a_bajar = 400\nprima = 10\nprecio_de_ejercicio = 500\nbeneficio = 500 - 400 - 10\nbeneficio",
      "metadata": {},
      "outputs": [
        {
          "data": {
            "text/plain": [
              "90"
            ]
          },
          "execution_count": 51,
          "metadata": {},
          "output_type": "execute_result"
        }
      ],
      "execution_count": 51
    },
    {
      "id": "4ceb7578-7a17-44fa-bfdf-5ea5cbb854e7",
      "cell_type": "markdown",
      "source": "**Ahora comprobémoslo:**\n\n*--Ejecuta el código de abajo con Shift + Enter--*\n\n### *--Elige un activo antes de ejecutarlo, sino dará error--*",
      "metadata": {}
    },
    {
      "id": "414efa07-3131-40fd-a549-94e54ead8baa",
      "cell_type": "code",
      "source": "# ------------- NO MODIFICAR ESTE CÓDIGO -------------------------\n\nimport random\nimport time\n\n# -----------USA UNO DE ESTOS ACTIVOS -------------\n# activo = \"A\"\n# activo = \"B\"\n# activo = \"C\"\n\ndef compraPUT(alternativa, precio):\n\n    if (alternativa == 1):\n        prima = 3\n        precio_ejer = 85\n    elif (alternativa == 2):\n        prima = 5\n        precio_ejer = 95\n    else:\n        prima = 1.5\n        precio_ejer = 75\n     \n    for i in range(8):\n        # Generar un cambio aleatorio en el precio\n        cambio = random.uniform(-3,-1)  # Cambio aleatorio entre -3 y -1\n        precio += cambio\n        \n        # Imprimir el precio y el cambio\n        if cambio >= 0:\n            print(f\"Precio mes {i+1}: {precio:.2f} (+{cambio:.2f})\")\n        else:\n            print(f\"Precio mes {i+1}: {precio:.2f} ({cambio:.2f})\")\n        \n        # Esperar un segundo antes de la próxima iteración\n        time.sleep(1)\n\n    if (precio >= precio_ejer):\n        print(f\"PIERDES la prima: No ejerces tu derecho a venta pues tu activo B vale más del precio que prefijaste para vender ({precio:.2f} > {precio_ejer:.2f}) y pierdes tus {prima}€ de señal\" )\n    if (precio < precio_ejer): \n        if (precio_ejer > (precio+prima)):\n            print(f\"Te protegiste EXITOSAMENTE frente al riesgo: El activo ahora vale menos y tu derecho a venta te permite venderlo a un precio mayor ({precio:.2f} < {precio_ejer:.2f})\")\n        else:\n            print(f\"Incurrirías en PÉRDIDAS: El activo ahora vale menos, pero el precio + la prima superán el precio de venta ({precio:.2f}+{prima:.2f} > {precio_ejer:.2f}) \")\n        \n# Precio inicial \nprecio = 100\n\ncompraPUT(alternativa, precio)",
      "metadata": {},
      "outputs": [
        {
          "name": "stdin",
          "output_type": "stream",
          "text": [
            "Ingrese la alternativa elegida (1, 2 o 3):  1\n"
          ]
        },
        {
          "name": "stdout",
          "output_type": "stream",
          "text": [
            "Precio mes 1: 98.88 (-1.12)\n",
            "Precio mes 2: 97.28 (-1.60)\n",
            "Precio mes 3: 95.28 (-2.00)\n",
            "Precio mes 4: 93.64 (-1.64)\n",
            "Precio mes 5: 92.50 (-1.14)\n",
            "Precio mes 6: 91.23 (-1.27)\n",
            "Precio mes 7: 89.06 (-2.17)\n",
            "Precio mes 8: 86.75 (-2.32)\n",
            "PIERDES la prima: No ejerces tu derecho a venta pues tu activo B vale más del precio que prefijaste para vender (86.75 > 85.00) y pierdes tus 3€ de señal\n"
          ]
        }
      ],
      "execution_count": 2
    },
    {
      "id": "57d3614a-ab71-418e-bf1e-89b50b081397",
      "cell_type": "markdown",
      "source": "<div style=\"background-color: #AED6F1; padding: 10px;\">\n    <details style=\"color: black;\">\n        <summary>Solución</summary>\n\n    >> La alternativa más segura es la 2.\n\n    >> Esto se debe a que sabes que el activo bajará a los 85€. Por lo que ganarías 95-85-5 ≈ 5€\n\n    >> Con la alternativa 1 sería 85-85-3 ≈ -3€\n\n    >> Con la alternativa 3 sería 75-85-1 ≈ -11€\n    \n</div>",
      "metadata": {}
    },
    {
      "id": "ef770852-eaaf-491b-9280-b8848f6d7357",
      "cell_type": "markdown",
      "source": "---\n**Venta PUT**\n\nPor último, ya solo te queda por vender el activo A.\n\n* El cual está valorado en 120€.\n\nEn este caso, crees que tenderá a mantenerse estable o a subir de precio de cotización, como ha estado ocurriendo estos meses.\n\nPor lo que decides **vender su opción de venta (PUT)** con una prima de 2€ a un precio de 110€ a un comprador interesado.\n\n* Siguiendo la lógica de apartados anteriores, **¿qué crees que ocurrirá si el precio de cotización desciende a los 100€?¿Y si alcanza los 140€?**\n",
      "metadata": {}
    },
    {
      "id": "341a0570-6954-4bd4-a00c-90b3194ae3e6",
      "cell_type": "markdown",
      "source": "<div style=\"background-color: #AED6F1; padding: 10px;\">\n    <details style=\"color: black;\">\n        <summary>Solución</summary>\n\n    >> a) Si desciende a los 100€ (por debajo de 110) entonces el comprador ejercerá el derecho de venta que había obtenido. Por lo que deberás pagar el activo por ese precio menos la prima.\n\n    >> b) Si por el contrario alcanza los 140€ (por encima de 110) entonces el comprador no ejercerá su derecho. Así que habrás obtenido 2€ de prima.\n\n    \n</div>",
      "metadata": {}
    },
    {
      "id": "e476262a-2fde-4af9-b92e-7ab476d3598d",
      "cell_type": "markdown",
      "source": "## 3. Paridad PUT-CALL\n\nEsta paridad sostiene que la relación entre PUT y CALL con el mismo activo subyacente **no genera ni pérdidas ni ganancias**, es decir, consiste en un equilibrio.\n\nLa fórmula responde a: \n\n**<p style=\"text-align: center;\">C - P = S - E/(1+r) t</p>**",
      "metadata": {}
    },
    {
      "id": "ee7d2623-a960-4249-aa89-067f7af03267",
      "cell_type": "markdown",
      "source": "Es decir que, **la resta del precio CALL y el precio PUT** es igual a:\n* 💰 El precio del activo subyacente actual ($S$) **menos**\n* 🎩 El precio del ejercicio o Strike ($E$) **dividido entre**\n* 💱 La tasa de cambio libre de riesgo ($1+r$) **multiplicado por**\n* ⏰ El tiempo restante a la fecha de vencimiento ($t$)\n\n### Ejercicio\n\nInterpreta la siguiente paridad de tres activos dados los siguientes datos:\n\n* **Activo 1**:\n  * S = 150€\n  * E = 195€\n  * r = 7%\n  * t = 2 años\n\n* **Activo 2**:\n  * S = 150€\n  * E = 151€\n  * r = 1%\n  * t = 1 año\n \n* **Activo 3**:\n  * S = 150€\n  * E = 123€\n  * r = 4%\n  * t = 1 año",
      "metadata": {}
    },
    {
      "id": "748e3c04-3300-437c-8f09-744fea036827",
      "cell_type": "code",
      "source": "# ------------- AQUI VA TU CÓDIGO -----------------------------\n\n",
      "metadata": {},
      "outputs": [],
      "execution_count": 17
    },
    {
      "id": "add04e46-bf66-4568-91be-fc26f8d67296",
      "cell_type": "markdown",
      "source": "<div style=\"background-color: #AED6F1; padding: 10px;\">\n    <details style=\"color: black;\">\n        <summary>Solución</summary>\n\n    >> 150-195/(1+0.07)*2 # Activo 1 = -214.48 | Mayor valor en PUT\n\n    >> 150-151/(1+0.01)*1 # Activo 2 = 0.49 | Valor muy similar, no hay opción de arbitraje\n\n    >> 150 - 123/(1+0.04)*1 # Activo 3 = 31.73 | Mayor valor en CALL\n\n    \n</div>",
      "metadata": {}
    },
    {
      "id": "70627e08-d44d-415f-a09c-19f18f07f36f",
      "cell_type": "markdown",
      "source": "---\n\n| | COMPRADOR | VENDEDOR |\n|:-:|:------:|:----:|\n| **CALL** | long CALL (comprador con expectativas alcistas) | short CALL (vendedor con obligación de tomar prestado en cierta fecha dado un tipo de interés) |\n| **PUT** | long PUT (comprador con expectativas bajistas) | short PUT (vendedor con obligación de prestar en cierta fecha dado un tipo de interés) |\n",
      "metadata": {}
    },
    {
      "id": "f9032c00-9331-49df-9816-9f9a7fc5fc56",
      "cell_type": "markdown",
      "source": "---\n\n## Ventajas y desventajas\n\n### Ventajas\n\n1. 🤸‍♂️ Flexibilidad de inversión según expectativas\n2. 🚦 Alternativa para mitigr riesgo\n3. 〽 Inversión inicial baja (prima)\n4. 🛃 Emisores consiguen ganancias de la transacción\n\n### Desventajas\n\n1. 😵 Complejidad\n2. 🎱 Prima difícil de estimar, sujeta a muchos factores\n3. 💸 Mayores costos de transacción",
      "metadata": {}
    },
    {
      "id": "260f0380-435c-408d-a7cc-daeb18672960",
      "cell_type": "code",
      "source": "",
      "metadata": {},
      "outputs": [],
      "execution_count": null
    }
  ]
}