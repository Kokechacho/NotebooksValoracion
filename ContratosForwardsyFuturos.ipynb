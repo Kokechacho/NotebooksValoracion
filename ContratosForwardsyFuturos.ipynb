{
  "metadata": {
    "kernelspec": {
      "name": "python",
      "display_name": "Python (Pyodide)",
      "language": "python"
    },
    "language_info": {
      "codemirror_mode": {
        "name": "python",
        "version": 3
      },
      "file_extension": ".py",
      "mimetype": "text/x-python",
      "name": "python",
      "nbconvert_exporter": "python",
      "pygments_lexer": "ipython3",
      "version": "3.8"
    }
  },
  "nbformat_minor": 5,
  "nbformat": 4,
  "cells": [
    {
      "id": "078cf4cb-1e86-4ecd-b2ed-e238f8cdec94",
      "cell_type": "markdown",
      "source": "# Contratos Forward y Contratos de Futuros\n\n**Un derivado financiero** es un contrato cuyo valor se deriva del precio de un activo subyacente, como acciones, bonos, materias primas, divisas u otros instrumentos financieros. Los derivados financieros pueden tomar varias formas, como futuros u opciones. Estos instrumentos **se utilizan para cubrir riesgos, especular sobre movimientos de precios, gestionar exposiciones financieras y alcanzar objetivos de inversión específicos**.\n\nY nosotros los categorizaremos en:\n\n> Futuros  \n> ---------\n> Opciones\n> ---------\n\n",
      "metadata": {}
    },
    {
      "id": "40542d45-2fd5-4930-8049-6a1456d7b0d6",
      "cell_type": "markdown",
      "source": "## ⚙ 1. Características de los contratos de futuros\n\nPodemos dividirlas en:\n\n1. Acuerdos __estandarizados__ para la compraventa de un activo subyacente 📈\n2. A un precio determinado 💲\n3. Dada una fecha futura específica 📆\n\nAunque pueden ser comprados o vendidos en cualquier momento **sin necesidad de esperar a esa fecha**.\n\nAdemás,\n\n5. Ambas partes aportan un importe como **señal de cumplimiento** para evitar **el riesgo de contrapartida**. 🤝\n6. El vendedor asume obligación, es decir, vende posiciones (\"shorts\"). 🚚\n\nSe usan principalmente para:\n\n> :☣: **Cubrir riesgos**.\n\n> :💭: **Especular sobre movimientos**.",
      "metadata": {}
    },
    {
      "id": "9d179945-9659-4d17-bc68-352a82092a10",
      "cell_type": "markdown",
      "source": "## ⚙ 2. Características de los contratos de opciones\n\nPodemos dividirlas en:\n\n1. Contratos que otorgan al titular el derecho, **pero no la obligación**, de compraventa de un activo subyacente 👨‍🎓\n2. A un precio determinado 💲\n3. Dada una fecha futura específica o antes 📆\n5. Se paga **una prima** por ese derecho 🤝\n\nSe usan principalmente para:\n\n> :🤸‍♂️: **Mayor flexibilidad para coberturas**.\n\n> :💭: **Especulación**.\n\n> :💱: **Venta de primas**.",
      "metadata": {}
    },
    {
      "id": "b035b185-8d52-49dd-9bd2-f2e7eb29f012",
      "cell_type": "markdown",
      "source": "## 💵 3. Métodos de valoración de futuros\n\n* Precio de futuro determinado por la oferta y la demanda del mercado\n* Puede fluctuar según las expectativas de los inversores\n* Valoración basada en el principio de arbitraje\n---\n\n---\n  \n### Fórmula:\n\n<p style=\"text-align: center;\">Valor del futuro = (Precio del activo subyacente - Precio del contrato a futuro) * Tamaño del contrato</p>\n\n---\n\n---\n\n**Hagámos un pequeño ejemplo:**\n\nDATOS: Queremos valorar nuestro contrato a futuro. Sábemos que el precio del activo está en 100$ pero necesitamos saber qué alternativa es más rentable\n\n* __Alternativa 1:__ Precio del contrato a 75$ y un tamaño de 100\n\n* __Alternativa 2:__ Precio del contrato a 90$ y un tamaño de 110\n\n*--Ejecuta el código con Shift + Enter--*\n",
      "metadata": {}
    },
    {
      "id": "7144c2b3-35bf-421f-a721-59dd136ec533",
      "cell_type": "code",
      "source": "# ------------- NO MODIFICAR ESTE CÓDIGO -------------------------\n\nPrecio_subyacente = 100 \n\n# ---------------------- AQUI VA TU CODIGO --------------------\n\n",
      "metadata": {},
      "outputs": [],
      "execution_count": 13
    },
    {
      "id": "0eb24718-e493-430b-9a58-50344759a21c",
      "cell_type": "markdown",
      "source": "<div style=\"background-color: #AED6F1; padding: 10px;\">\n    <details style=\"color: black;\">\n        <summary>Solución</summary>\n        \n    >> Precio_futuro_1 = 75\n        \n    >> Precio_futuro_2 = 90\n    \n    >> t_1 = 100\n    \n    >> t_2 = 110\n\n    >> v1 = (Precio_subyacente - Precio_futuro_1) * t_1 # = 2500$\n\n    >> v2 = (Precio_subyacente - Precio_futuro_2) * t_2 # = 1100$\n\n    >> v1 > v2\n</div>",
      "metadata": {}
    },
    {
      "id": "8a9ea423-e5e7-4cc4-90f8-6dfea16c624f",
      "cell_type": "markdown",
      "source": "Existen diversos modelos también como: \n\n## 📦 Modelo de costo de almacenamiento \n\n**Contratos de futuros de materias primas sobre sus costes de almacenamiento e ingresos generados.**\n\nLo valoramos con: \n\n---\n\n---\n  \n### Fórmula:\n\n<p style=\"text-align: center;\">Precio del contrato de futuro = Precio del activo subyacente + Costo de almacenamiento - Ingresos por intereses </p>\n\n---\n\n---\n**Hagámos otro pequeño ejemplo:**\n\nDATOS: Queremos valorar nuestro contrato a futuro. Sábemos que el precio del activo está en 890$ pero necesitamos saber qué alternativa es más rentable\n\n* __Alternativa 1:__ Costo de almacenamiento a 190$ y unos ingresos por intereses de 700\n\n* __Alternativa 2:__ Costo de almacenamiento a 500$ y unos ingresos por intereses de 230\n\n*--Ejecuta el código con Shift + Enter--*",
      "metadata": {}
    },
    {
      "id": "afe9e795-f58d-4487-86c1-e14cba09ac55",
      "cell_type": "code",
      "source": "# ------------- NO MODIFICAR ESTE CÓDIGO -------------------------\n\nPrecio_subyacente = 890 \n\n# ---------------------- AQUI VA TU CODIGO --------------------\n\n",
      "metadata": {},
      "outputs": [],
      "execution_count": 16
    },
    {
      "id": "d6c4f20f-5aef-412f-bdfb-c041c4b6bfb9",
      "cell_type": "markdown",
      "source": "<div style=\"background-color: #AED6F1; padding: 10px;\">\n    <details style=\"color: black;\">\n        <summary>Solución</summary>\n        \n    >> Costo_1 = 190\n        \n    >> Costo_2 = 500\n    \n    >> i_1 = 700\n    \n    >> i_2 = 230\n\n    >> v1 = Precio_subyacente + Costo_1 * i_1 # = 380$\n\n    >> v2 = Precio_subyacente + Costo_2 * i_2 # = 1160$\n\n    >> v1 < v2\n</div>",
      "metadata": {}
    },
    {
      "id": "7e0e4215-d108-4f8e-80a6-abfb396b6e78",
      "cell_type": "markdown",
      "source": "## 🙋‍♂️ Modelo oferta y demanda\n\n**Contratos de futuros de activos financieros**.\n\nLa ley de oferta y demanda considera factores como el precio del activo, el tipo de interés, el tiempo y la volatilidad.",
      "metadata": {}
    },
    {
      "id": "c59db0a8-73eb-46fd-811d-6689548c34ac",
      "cell_type": "markdown",
      "source": "## ¥ Modelo Back-Scholes\n\n**Contratos de futuros de opciones, que son una forma de derivados financieros**.\n\nEste modelo parte de varios supuestos\n\n1. La tasa libre de riesgo es constante 🛑\n2. Los rendimientos del activo subyacente son lognormales 📊\n3. No existen costos de transacción 🆓\n4. No hay oportunidades de arbitraje 🙆‍♂️\n5. Los mercados son eficientes 🤖\n\n---\n\n---\n  \n### Fórmula:\n\n<p style=\"text-align: center;\"> $C = S \\cdot N(d_1) - X \\cdot e^{-r \\cdot T} \\cdot N(d_2)$ </p>\n\n---\n\n---\n\nLo cual se traduce en:\n\n* __C__ = Precio de compra de la opción \n\n* __S__ = Precio de la acción \n\n* __N(d1) y N(d2)__ = Valor de la función de probabilidad acumulada de una Normal\n\n* __X__ = Precio de ejercicio de la opción de compra\n\n* __T__ = Periodo de vencimiento\n\n* __r__ = tasa de interés libre de riesgo",
      "metadata": {}
    },
    {
      "id": "d80f8d15-687d-4da8-ba30-05c5aad28414",
      "cell_type": "markdown",
      "source": "## 4. Relación entre futuros y opciones\n\nAmbos contratos permiten **especular sobre la dirección futura del precio de un activo subyacente** y son influenciados por el mismo. \n\n<p style=\"text-align: center;\"> ⬇⬇⬇ </p>\n\nNos permiten controlar un activo subyacente por un montante nominal mayor del que podríamos con una inversión directa sobre el mismo. En el caso de los futuros, los inversores han de depositar **un margen inicial**. En los de opciones, deben depositar **una prima**.\n\n<p style=\"text-align: center;\"> ⬇⬇⬇ </p>\n\nLo cual responde al concepto de **apalancamiento**, que permite a los inversores abrir posiciones con un porcentaje del valor total de la operación como garantía, lo que amplifica el potencial de ganancias pero también de pérdidas.",
      "metadata": {}
    },
    {
      "id": "eff6b240-1283-4335-a9ba-6f74ceb1d465",
      "cell_type": "markdown",
      "source": "---\n\nLo que nos deja con las siguientes diferencias entre opciones y futuros:   |",
      "metadata": {}
    },
    {
      "id": "0d267a96-6dc2-4ff3-bd47-3cfd066d5cb5",
      "cell_type": "markdown",
      "source": "| FUTUROS | OPCIONES |   \n| --- | --- |\n| Instrumento sencillo | Instrumento complejo |\n| Obligación de compraventa a un precio y fecha determinado | Adquisición de derecho, pero no de obligación |\n| Liquidación diaria | Pago de prima |\n| Mayores ganancias | Liquidación a fecha del ejercicio |\n| Pérdidas ilimitadas | Pérdidas limitadas |",
      "metadata": {}
    }
  ]
}