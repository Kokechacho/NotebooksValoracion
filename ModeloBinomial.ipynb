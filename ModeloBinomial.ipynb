{
 "cells": [
  {
   "cell_type": "markdown",
   "id": "33869d44-fee9-4e4e-be29-1e11c9f7e5aa",
   "metadata": {},
   "source": [
    "# Modelo Binomial\n",
    "\n",
    "El modelo binomial (MB) de **valuación de opciones de dos estados**, propuesto por Merton Robert C. y Bodie Zvi en 2004, es una herramienta fundamental en finanzas, estadística y teoría de la probabilidad. Permite que el precio de una acción pueda tomar dos valores posibles en la fecha de vencimiento de la opción, lo que **facilita su valoración y análisis de probabilidades de éxito o fracaso**. El MB se utiliza ampliamente en la práctica financiera y puede ser utilizado para derivar el modelo de Black-Scholes con mayor precisión y realismo al subdividir los periodos en intervalos cada vez más pequeños. Se calcula mediante la distribución binomial con la fórmula del coeficiente binomial, **como el ensayo de Bernoulli**.\n"
   ]
  },
  {
   "cell_type": "markdown",
   "id": "edf1c2d4-a7e0-46ef-9241-ac5e868ca524",
   "metadata": {},
   "source": [
    "### Ejercicio 1\n",
    "\n",
    "#### Calcular el valor de una opción CALL europeo (opción de compra), calcular la prima y la volatilidad.\n",
    "\n",
    "--Ejecuta el código de abajo con Shift + Enter.--"
   ]
  },
  {
   "cell_type": "code",
   "execution_count": 5,
   "id": "e6d14473-1924-4474-8ff4-6d70dfabfc72",
   "metadata": {},
   "outputs": [],
   "source": [
    "# ------------- NO MODIFICAR ESTE CÓDIGO -------------------------\n",
    "import math\n",
    "import numpy as np\n",
    "import matplotlib.pyplot as plt\n",
    "\n",
    "# ........................DATOS...................................\n",
    "\n",
    "S = 100 # Precio Spot del activo subyacente\n",
    "E = 110 # Strike\n",
    "sigma = 0.2 # Volatilidad anual\n",
    "n = 4 # Número de pasos del árbol binomial\n",
    "T = 2 # Duración total hasta la fecha de vencimiento\n",
    "r = np.log(1+0.07) # Tanto instantáneo con capitalización continua del 7%\n"
   ]
  },
  {
   "cell_type": "markdown",
   "id": "f56012fb-fe2e-45d5-b47a-2662471bbdec",
   "metadata": {},
   "source": [
    "Ahora necesitamos calcular el $\\Delta t$"
   ]
  },
  {
   "cell_type": "code",
   "execution_count": 1,
   "id": "dc273bb5-c7bb-410d-87db-063ccaea4b45",
   "metadata": {},
   "outputs": [],
   "source": [
    "# ---------------------- AQUI VA TU CODIGO --------------------\n",
    "# Recuerda que tan solo es T/n\n"
   ]
  },
  {
   "cell_type": "markdown",
   "id": "0ae0e1a0-dc84-431a-a883-fa9ce05fb609",
   "metadata": {},
   "source": [
    "<div style=\"background-color: #AED6F1; padding: 10px;\">\n",
    "    <details style=\"color: black;\">\n",
    "        <summary>Solución</summary>\n",
    "    >> delta = T/n\n",
    "</div>"
   ]
  },
  {
   "cell_type": "markdown",
   "id": "1e3b6e27-f0a0-4a1e-aaf6-f3391955bd2f",
   "metadata": {},
   "source": [
    "Ahora calcularemos u y d:\n",
    "\n",
    "La fórmula de u viene descrita por: $e^{\\sigma \\sqrt{\\Delta t}}$\n",
    "\n",
    "Mientras que $ d = \\frac{1}{u} $"
   ]
  },
  {
   "cell_type": "code",
   "execution_count": 2,
   "id": "1963a971-610c-48d9-a9a7-6d0bf20794bd",
   "metadata": {},
   "outputs": [],
   "source": [
    "# ---------------------- AQUI VA TU CODIGO --------------------\n",
    "# La exponencial en python corresponde a math.exp(...)\n",
    "# La raiz cuadrada en python corresponde a math.sqrt(...)\n"
   ]
  },
  {
   "cell_type": "markdown",
   "id": "456b4570-e931-46b0-a531-c49b9bd8b80c",
   "metadata": {},
   "source": [
    "<div style=\"background-color: #AED6F1; padding: 10px;\">\n",
    "    <details style=\"color: black;\">\n",
    "        <summary>Solución de u</summary>\n",
    "    >> u = math.exp(sigma*math.sqrt(delta))\n",
    "    <details style=\"color: black;\">  \n",
    "        <summary>Solución de d</summary>\n",
    "    >> d = 1/u\n",
    "</div>"
   ]
  },
  {
   "cell_type": "markdown",
   "id": "16d373b4-50f9-4cd7-9797-c05bcfa3361d",
   "metadata": {},
   "source": [
    "Por último, calculamos la probabilidad de subida **p**\n",
    "\n",
    "Cuya fórmula es: $ p = \\frac{{e^{r\\Delta t} - d}}{{u - d}}$"
   ]
  },
  {
   "cell_type": "code",
   "execution_count": 3,
   "id": "cc029bd8-f4b5-4511-b66e-01aa7b8223e2",
   "metadata": {},
   "outputs": [],
   "source": [
    "# ---------------------- AQUI VA TU CODIGO --------------------\n",
    "# La exponencial en python corresponde a math.exp(...)\n"
   ]
  },
  {
   "cell_type": "markdown",
   "id": "57584bac-7e18-4261-8aa1-a4131c27faf7",
   "metadata": {},
   "source": [
    "<div style=\"background-color: #AED6F1; padding: 10px;\">\n",
    "    <details style=\"color: black;\">\n",
    "        <summary>Solución</summary>\n",
    "        >>\n",
    "    p = (math.exp(r*delta)-d)/(u-d)\n",
    "</div>"
   ]
  },
  {
   "cell_type": "markdown",
   "id": "cd98d621-5b34-4b03-8407-18b120344943",
   "metadata": {},
   "source": [
    "Procedemos ahora a calcular el **árbol**\n",
    "\n",
    "--Ejecuta el código de abajo con Shift + Enter.--"
   ]
  },
  {
   "cell_type": "code",
   "execution_count": 6,
   "id": "b8bdc251-fe46-4f4d-b3e4-5b4854430953",
   "metadata": {},
   "outputs": [
    {
     "ename": "NameError",
     "evalue": "name 'u' is not defined",
     "output_type": "error",
     "traceback": [
      "\u001b[1;31m---------------------------------------------------------------------------\u001b[0m",
      "\u001b[1;31mNameError\u001b[0m                                 Traceback (most recent call last)",
      "Cell \u001b[1;32mIn[6], line 6\u001b[0m\n\u001b[0;32m      4\u001b[0m \u001b[38;5;28;01mfor\u001b[39;00m i \u001b[38;5;129;01min\u001b[39;00m \u001b[38;5;28mrange\u001b[39m(n \u001b[38;5;241m+\u001b[39m \u001b[38;5;241m1\u001b[39m):\n\u001b[0;32m      5\u001b[0m     \u001b[38;5;28;01mfor\u001b[39;00m j \u001b[38;5;129;01min\u001b[39;00m \u001b[38;5;28mrange\u001b[39m(i \u001b[38;5;241m+\u001b[39m \u001b[38;5;241m1\u001b[39m):\n\u001b[1;32m----> 6\u001b[0m         S_values[j, i] \u001b[38;5;241m=\u001b[39m S \u001b[38;5;241m*\u001b[39m (\u001b[43mu\u001b[49m \u001b[38;5;241m*\u001b[39m\u001b[38;5;241m*\u001b[39m (i \u001b[38;5;241m-\u001b[39m j)) \u001b[38;5;241m*\u001b[39m (d \u001b[38;5;241m*\u001b[39m\u001b[38;5;241m*\u001b[39m j)\n\u001b[0;32m      8\u001b[0m \u001b[38;5;66;03m# Calcula el valor de la opción al vencimiento\u001b[39;00m\n\u001b[0;32m      9\u001b[0m option_values \u001b[38;5;241m=\u001b[39m np\u001b[38;5;241m.\u001b[39mmaximum(\u001b[38;5;241m0\u001b[39m, S_values \u001b[38;5;241m-\u001b[39m E)\n",
      "\u001b[1;31mNameError\u001b[0m: name 'u' is not defined"
     ]
    }
   ],
   "source": [
    "# ------------- NO MODIFICAR ESTE CÓDIGO -------------------------\n",
    "\n",
    "S_values = np.zeros((n + 1, n + 1))\n",
    "for i in range(n + 1):\n",
    "    for j in range(i + 1):\n",
    "        S_values[j, i] = S * (u ** (i - j)) * (d ** j)\n",
    "\n",
    "# Calcula el valor de la opción al vencimiento\n",
    "option_values = np.maximum(0, S_values - E)\n",
    "\n",
    "# Propaga hacia atrás los valores de la opción utilizando el modelo binomial\n",
    "for i in range(n - 1, -1, -1):\n",
    "    for j in range(i + 1):\n",
    "        option_values[j, i] = np.exp(-r * delta) * (p * option_values[j, i + 1] + (1 - p) * option_values[j + 1, i + 1])\n",
    "\n",
    "for i in range(len(S_values)): \n",
    "    if(i > 0):\n",
    "        for j in range(i):\n",
    "            S_values[i][j] = S_values[i-1][j]\n",
    "            option_values[i][j] = option_values[i-1][j]\n",
    "\n",
    "# ------------- NO MODIFICAR ESTE CÓDIGO -------------------------\n",
    "\n",
    "plt.figure(figsize=(16, 8))\n",
    "\n",
    "# Itera sobre los valores de S_values[0]\n",
    "for i, fila in enumerate(S_values):\n",
    "    plt.plot(np.arange(len(fila)), fila, 'ro-')\n",
    "    for j, val in enumerate(fila):\n",
    "        plt.text(j, val, f'{val:.2f} | {option_values[i][j]:.2f} ', ha='center', va='bottom', color='black')\n",
    "\n",
    "plt.xlabel('Tiempo')\n",
    "plt.xticks(range(0,5))\n",
    "plt.ylabel('Valor')\n",
    "plt.title('Árbol Binomial Horizontal')\n",
    "plt.grid(True)\n",
    "plt.show()\n"
   ]
  },
  {
   "cell_type": "code",
   "execution_count": null,
   "id": "99709bbe-c1bb-4cdf-b5f8-41298cfd4620",
   "metadata": {},
   "outputs": [],
   "source": []
  }
 ],
 "metadata": {
  "kernelspec": {
   "display_name": "Python 3 (ipykernel)",
   "language": "python",
   "name": "python3"
  },
  "language_info": {
   "codemirror_mode": {
    "name": "ipython",
    "version": 3
   },
   "file_extension": ".py",
   "mimetype": "text/x-python",
   "name": "python",
   "nbconvert_exporter": "python",
   "pygments_lexer": "ipython3",
   "version": "3.11.5"
  }
 },
 "nbformat": 4,
 "nbformat_minor": 5
}
