{
 "cells": [
  {
   "cell_type": "markdown",
   "id": "00b3359d-5dec-442f-8c63-3f6a0081ddb0",
   "metadata": {},
   "source": [
    "# Modelo Black-Scholes\n",
    "\n",
    "(Delgado Ugarte, 2022, pág. 20) explicó que el modelo de Black-Scholes (BS) es una ecuación utilizada principalmente para valorar opciones, siguiendo condiciones similares al modelo Binomial. Se emplea en la especulación de alto riesgo y forma parte de la estrategia de matemática financiera, permitiendo la determinación del precio de activos financieros y la valoración de opciones, incluyendo opciones europeas y americanas. El modelo BS utiliza procesos estocásticos (Gauss-Wiener) y la teoría de probabilidades para **calcular el valor actual de opciones, como las opciones de compra (CALL) o venta (PUT), asumiendo una distribución normal**.\n",
    "\n",
    "Según Capinski y Kopp (2012, pág. 61), el modelo de Black-Scholes se centra en las opciones de compra europeas y se basa en una fórmula constante que relaciona el precio de mercado con eventos que siguen una distribución normal. Este modelo asume ciertas condiciones, como la ausencia de costos de impuestos, tasas de interés libre de riesgo constantes y la inexistencia de dividendos. La volatilidad se representa con el símbolo sigma (σ), mientras que el precio de ejercicio se denota como K. La función de probabilidad N(d1) y N(d2) se utiliza para calcular el valor de la prima de la opción y determinar estrategias de venta en corto, asegurando la ausencia de oportunidades de arbitraje sin riesgo."
   ]
  },
  {
   "cell_type": "markdown",
   "id": "f991647b-9eab-45b4-bc00-7f24727d5b7d",
   "metadata": {},
   "source": [
    "Ahora debemos explicar la fórmula para una opción CALL, que aunque parezca de gran complejidad, puede descomponerse fácilmente.\n",
    "\n",
    "---\n",
    "\n",
    "---\n",
    "\n",
    "### Fórmula:\n",
    "\n",
    "<p style=\"text-align: center;\"> $C = S \\cdot N(d_1) - K \\cdot e^{-r \\cdot T} \\cdot N(d_2)$ </p>\n",
    "\n",
    "---\n",
    "\n",
    "---\n",
    "\n",
    "Esto significa que el **Precio de la Opción** (C) es igual a:\n",
    "\n",
    "* El **valor actual del activo subyacente** ($S$) multiplicado por **la probabilidad de que el precio del activo subyacente sea mayor al precio del ejercicio** ($N(d_1)$) en la fecha de vencimiento. Que representa:\n",
    "> **🧩 Valor esperado del activo subyacente ($S \\cdot N(d_1)$)**\n",
    "* Por otro lado, el **valor del ejercicio** ($K$) se multiplica por **un factor de descuento** ($e^{-r \\cdot T}$) para actualizarlo a valor presente y que también se multiplica por **la probabilidad de que el precio del activo subyacente sea menor que al precio de ejercicio** ($N(d_2)$) en la fecha de vencimiento ($S \\cdot N(d_2)$). Que representa:\n",
    "> **💎 Valor esperado del precio del ejercicio ($K \\cdot e^{-r \\cdot T} \\cdot N(d_2)$)**\n",
    "\n",
    "### Precio de la Opción CALL = 🧩 Valor esperado del activo subyacente - 💎 Valor esperado del precio del ejercicio\n",
    "\n",
    "---\n",
    "\n",
    "## **Hagamos un pequeño ejemplo**:\n",
    "\n",
    "Como inversor de bolsa se te asigna con la tarea de valorar la opción de compra CALL según el modelo Black-Scholes\n",
    "\n",
    "- Recrea la fórmula descrita con los siguientes datos:\n",
    "\n",
    "* $S$ = 200€\n",
    "* $K$ = 210€\n",
    "* $N(d_1)$ = 75%\n",
    "* $N(d_2)$ = 25%\n",
    "* $T$ = 3 años\n",
    "* $r$ = 4%"
   ]
  },
  {
   "cell_type": "code",
   "execution_count": 2,
   "id": "988b1d8e-a6d1-4622-9632-6225d221c94f",
   "metadata": {},
   "outputs": [],
   "source": [
    "# ------------- NO MODIFICAR ESTE CÓDIGO -------------------------\n",
    "import math\n",
    "import numpy as np\n",
    "\n",
    "# ---------------------- AQUI VA TU CODIGO --------------------\n",
    "# La exponencial en python corresponde a math.exp(...)\n"
   ]
  },
  {
   "cell_type": "markdown",
   "id": "222b94fe-4c6f-48ef-b4cf-31b4139183cc",
   "metadata": {},
   "source": [
    "<div style=\"background-color: #AED6F1; padding: 10px;\">\n",
    "    <details style=\"color: black;\">\n",
    "        <summary>Solución</summary>\n",
    "    \n",
    "        >> v = 200*0.75 - 210*math.exp(-0.04*3)*0.25 \n",
    "\n",
    "        >> Lo cual resulta en v = 103.43\n",
    "</div>"
   ]
  },
  {
   "cell_type": "markdown",
   "id": "f901702e-e2f4-46f0-8016-c051b4c068d0",
   "metadata": {},
   "source": [
    "Siguiendo con la fórmula, si profundizamos vemos que $N(d_1)$ y $N(d_2)$ son funciones de distribución acumuladas de una Normal donde:\n",
    "\n",
    "$d_1 = \\frac{{\\ln\\left(\\frac{S}{K}\\right) + \\left(r + \\frac{{\\sigma^2}}{2}\\right)T}}{{\\sigma \\sqrt{T}}}$\n",
    "\n",
    "​$d_2 = d_1 - \\sigma \\sqrt{T}$\n",
    "\n",
    "¿Qué ocurre dentro de d1?\n",
    "\n",
    "* Aplicamos un logaritmo natural sobre el cociente entre **el precio del activo subyacente** ($S$) y **el precio del ejercicio** ($K$). Que representa:\n",
    "> **✈ Ratio de lejanía entre $S$ y $K$ ($\\ln\\left(\\frac{S}{K}\\right)$)**\n",
    "\n",
    ">💡 Nótese que se usan logaritmos para facilitar la interpretación de los precios siguiendo la distribución lognormal que asumíamos en el modelo\n",
    "\n",
    "* Sumamos la tasa de interés libre de riesgo ($r$) con la mitad de la volatilidad del activo subyacente al cuadrado ($\\frac{\\sigma^2}{2}$) y multiplicamos el resultado por el tiempo ($T$). Que representa:\n",
    "> **⛳ Rendimiento esperado del activo subyacente dado un periodo de tiempo ($(r + \\frac{\\sigma^2}{2})T$)**\n",
    "\n",
    "* Multiplicamos la volatilidad ($\\sigma$) por la raíz cuadrada del tiempo ($\\sqrt{T}$). Que representa:\n",
    "> **🎢 Desviación estándar del activo subyacente actualizada al tiempo de vigencia de la opción ($\\sigma \\sqrt{T}$)**\n",
    "\n",
    "* Lo que conseguimos al sumar los dos primeros términos (${\\ln\\left(\\frac{S}{K}\\right) + \\left(r + \\frac{{\\sigma^2}}{2}\\right)T}$) y dividirlo por el último ($\\sigma \\sqrt{T}$) representa:\n",
    "> **🎇 Tasa de cambio normalizada de la opción ($d_1 = \\frac{{\\ln\\left(\\frac{S}{K}\\right) + \\left(r + \\frac{{\\sigma^2}}{2}\\right)T}}{{\\sigma \\sqrt{T}}}$)** \n",
    "\n",
    "### d1 = $\\frac{\\text{✈ Ratio de lejanía entre } S \\text{ y } K + \\text{⛳ Rendimiento esperado del activo subyacente dado un periodo de tiempo}}{\\text{🎢 Desviación estándar del activo subyacente actualizada al tiempo de vigencia de la opción}}$\n",
    "\n",
    "---\n",
    "\n",
    "## **Hagamos otro pequeño ejemplo**:\n",
    "\n",
    "Siguiendo el caso anterior, imagina que has de calcular d1 y d2 para tu opción\n",
    "\n",
    "- Recrea la fórmula descrita con los siguientes datos:\n",
    "\n",
    "* $S$ = 200€\n",
    "* $K$ = 210€\n",
    "* $\\sigma^2$ = 20%\n",
    "* $T$ = 3 años\n",
    "* $r$ = 4%"
   ]
  },
  {
   "cell_type": "code",
   "execution_count": 38,
   "id": "69b8a4f0-0b70-4a07-aac6-636db2d2f34a",
   "metadata": {},
   "outputs": [],
   "source": [
    "# ---------------------- AQUI VA TU CODIGO --------------------\n",
    "# El logaritmo natural en python corresponde con np.log(...)\n",
    "# La raiz cuadrada en python corresponde con np.log o math.sqrt(...)\n",
    "\n"
   ]
  },
  {
   "cell_type": "markdown",
   "id": "1222c29b-7d3c-408b-a4b2-103176c90045",
   "metadata": {},
   "source": [
    "<div style=\"background-color: #AED6F1; padding: 10px;\">\n",
    "    <details style=\"color: black;\">\n",
    "        <summary>Solución</summary>\n",
    "    \n",
    "        >> v = (np.log(200/210)+(0.04 + 0.2/2)*3)/(0.2*np.sqrt(3))\n",
    "\n",
    "        >> Lo cual resulta en v = 1.07\n",
    "</div>"
   ]
  },
  {
   "cell_type": "markdown",
   "id": "38e71742-543e-452f-b5a8-138ffd9ca9f0",
   "metadata": {},
   "source": [
    "> ⛏ **¿Y qué pasa si buscas en las tablas de normal el valor resultante de $d_1$?** ⁉"
   ]
  },
  {
   "cell_type": "markdown",
   "id": "9bcb482b-3228-45cb-ae47-e1229d52a53f",
   "metadata": {},
   "source": [
    "<img src=https://ieszaframagon.com/matematicas/estadistica/var_aleatoria/tabla_normal.png>"
   ]
  },
  {
   "cell_type": "markdown",
   "id": "e9e3be23-56b3-4d28-9c48-6fb282bdf032",
   "metadata": {},
   "source": [
    "<div style=\"background-color: #AED6F1; padding: 10px;\">\n",
    "    <details style=\"color: black;\">\n",
    "        <summary>Solución</summary>\n",
    "    \n",
    "        >> ¡¡Nos da una probabilidad del 0.8577 o del 85.77% de que se efectúe la acción!!\n",
    "\n",
    "        >> De hecho, en el primer ejemplo, donde N(d1) = 75%, estábamos infravalorando la probabilidad de que esa opción se ejerciese cuando\n",
    "        realmente es mayor, y por ende, la valoración de la misma también lo será.\n",
    "\n",
    "</div>"
   ]
  },
  {
   "cell_type": "markdown",
   "id": "beaf79e8-f7c3-4662-abaf-d5d82995388b",
   "metadata": {},
   "source": [
    "d2 no deja de ser la misma ecuación pero considerando negativamente la mitad de la volatilidad del activo subyacente al cuadrado ($-\\frac{\\sigma^2}{2}$)\n",
    "\n",
    "Son tasas similares, pero que tienen en distintas consideraciones sobre cómo afecta la volatilidad.\n",
    "> Para d1 la volatilidad **suma** y para d2 la volatilidad **resta**\n",
    "\n",
    "Por último, **si la opción fuese una opción PUT se invertiría la fórmula**, pues, al contrario de en una CALL, nos interesaría valorar si el precio del ejercicio es mayor al del activo subyacente: \n",
    "\n",
    "---\n",
    "\n",
    "---\n",
    "\n",
    "### Fórmula:\n",
    "\n",
    "<p style=\"text-align: center;\"> $P = X \\cdot e^{-r \\cdot T} \\cdot N(-d_2) - S \\cdot N(-d_1) $ </p>\n",
    "\n",
    "---\n",
    "\n",
    "---\n",
    "\n",
    ">💡 Nótese que se usan las probabilidades complementarias $-d_1$ y $-d_2$ pues buscamos una tasa de cambio inversa a la que veíamos en las CALL. Es decir, ahora $N(-d_2)$ representará las posibilidades de que el precio subyacente sea menor al del ejercicio, mientras que $N(-d_1)$ será las posibilidades de que el precio subyacente sea mayor al del ejercicio.\n"
   ]
  },
  {
   "cell_type": "markdown",
   "id": "401f4445-ffbc-4323-9584-e9ad7899b5bf",
   "metadata": {},
   "source": [
    "## Ahora para el ejercicio final\n",
    "\n",
    "Supongamos que ya tenemos una función en python que nos calcula la valoración de una opción dada. (El código se encuentra abajo detallado para el lector interesado, el cual tan solo transcribe a python las fórmulas que hemos visto)\n",
    "\n",
    "Esta función requiere que le pasen el precio del activo ($S$), el precio de ejercicio ($K$), el periodo de tiempo ($T$), la volatilidad ($\\sigma$) y el tipo de opción ('call' o 'put').\n",
    "\n",
    "Nosotros necesitamos valorar 4 alternativas de opciones:\n",
    "\n",
    "* **Alternativa 1:** S = 1020€ | K = 900€ | T = 1 año | r = 5% | sigma = 35% | 'put'\n",
    "* **Alternativa 2:** S = 50€ | K = 1000€ | T = 0.25 años | r = 16% | sigma = 75% | 'call'\n",
    "* **Alternativa 3:** S = 75€ | K = 125€ | T = 5 años | r = 7% | sigma = 12% | 'put'\n",
    "* **Alternativa 4:** S = 1300€ | K = 1325€ | T = 2 años | r = 2% | sigma = 10% | 'call'\n",
    "\n",
    "*Ejecuta el código de abajo con Shift + Enter*"
   ]
  },
  {
   "cell_type": "code",
   "execution_count": 4,
   "id": "7d2e0be9-87ef-493c-8c13-2d2caaf2bf4d",
   "metadata": {},
   "outputs": [],
   "source": [
    "# ------------- NO MODIFICAR ESTE CÓDIGO -------------------------\n",
    "import numpy as np\n",
    "from scipy.stats import norm\n",
    "import datetime\n",
    "\n",
    "def black_scholes(S, K, T, r, sigma, option_type='call'):\n",
    "    \"\"\"\n",
    "    Calcula el precio de una opción utilizando el modelo de Black-Scholes.\n",
    "\n",
    "    Parámetros:\n",
    "    S : float\n",
    "        Precio actual del activo subyacente.\n",
    "    K : float\n",
    "        Precio de ejercicio de la opción.\n",
    "    T : float\n",
    "        Tiempo hasta la expiración de la opción, en años.\n",
    "    r : float\n",
    "        Tasa de interés libre de riesgo, en términos continuos.\n",
    "    sigma : float\n",
    "        Volatilidad del activo subyacente.\n",
    "    option_type : str, opcional\n",
    "        Tipo de opción ('call' para una opción de compra, 'put' para una opción de venta).\n",
    "    \n",
    "    Devuelve:\n",
    "    float\n",
    "        Precio teórico de la opción.\n",
    "    \"\"\"\n",
    "    d1 = (np.log(S / K) + (r + 0.5 * sigma ** 2) * T) / (sigma * np.sqrt(T))\n",
    "    d2 = d1 - sigma * np.sqrt(T)\n",
    "\n",
    "    if option_type == 'call':\n",
    "        option_price = S * norm.cdf(d1) - K * np.exp(-r * T) * norm.cdf(d2)\n",
    "    elif option_type == 'put':\n",
    "        option_price = K * np.exp(-r * T) * norm.cdf(-d2) - S * norm.cdf(-d1)\n",
    "    else:\n",
    "        raise ValueError(\"El tipo de opción debe ser 'call' o 'put'.\")\n",
    "\n",
    "    return option_price\n"
   ]
  },
  {
   "cell_type": "code",
   "execution_count": 2,
   "id": "d7288604-22f8-42a0-aa6d-6574fe4cec07",
   "metadata": {},
   "outputs": [],
   "source": [
    "# ------------- NO MODIFICAR ESTE CÓDIGO -------------------------\n",
    "# DATOS\n",
    "data_matrix = [\n",
    "    [1020,900,1,0.05,0.35,'put'],\n",
    "    [50,40,0.25,0.16,0.75,'call'],\n",
    "    [75,125,5,0.07,0.12,'put'],\n",
    "    [1300,1325,2,0.02,0.1,'call']\n",
    "]\n",
    "\n",
    "# ---------------------- AQUI VA TU CODIGO --------------------\n",
    "# Recuerda que la función black_scholes necesita que se le introduzca todos mencionados anteriormente los datos en orden. \n",
    "# ¡No modifiques nada, tan solo introduce tu línea de código¡\n",
    "# Ejemplo para llamar a la función -> black_scholes(10, 9, 1.07, 0.04, 0.4, 'put') \n",
    "\n",
    "# Recorremos la matriz para conseguir los datos por filas y hacer el black_scholes\n",
    "for row in data_matrix:\n",
    "    \n",
    "    # Vamos cogiendo los datos de la fila que toque\n",
    "    S, K, T, r, sigma, option = row\n",
    "\n",
    "    # Llamamos a la función black_scholes(...) con todos los datos en orden\n",
    "    # ¡¡¡¡¡¡¡¡¡¡¡¡¡¡¡ Introduce Aquí tu código ¡¡¡¡¡¡¡¡¡¡¡¡¡¡¡¡¡¡¡¡¡¡¡¡\n"
   ]
  },
  {
   "cell_type": "markdown",
   "id": "9b2ecfbb-8146-47f9-b048-e9ca30a02b81",
   "metadata": {},
   "source": [
    "<div style=\"background-color: #AED6F1; padding: 10px;\">\n",
    "    <details style=\"color: black;\">\n",
    "        <summary>Solución</summary>\n",
    "    \n",
    "        >> print(black_scholes(S, K, T, r, sigma, option))\n",
    "            64.14254508593316\n",
    "            13.887171547215004\n",
    "            16.75074853293402\n",
    "            86.79394025334136 (ALTERNATIVA 4 MEJOR VALORADA)\n",
    "\n",
    "</div>"
   ]
  },
  {
   "cell_type": "markdown",
   "id": "0022260a-3469-4f89-bb9f-02333ee0839e",
   "metadata": {},
   "source": [
    "## ⚖ Calculadora de opciones"
   ]
  },
  {
   "cell_type": "markdown",
   "id": "08a9d63c-0ef0-4840-8461-8d005cfe213a",
   "metadata": {},
   "source": [
    "Para concluir debemos generarnos una calculadora de opciones que calcule los precios de las opciones, su vencimiento y el valor de sus componentes, para que resulte en un desglose completo y transparente. Usaremos como plantilla la función anterior de black_scholes(...) para crear paso a paso la nueva función."
   ]
  },
  {
   "cell_type": "code",
   "execution_count": 2,
   "id": "ee713e6d-d481-4b81-8ded-e01b488d11f6",
   "metadata": {},
   "outputs": [],
   "source": [
    "# ---------------------- AQUI VA TU CODIGO --------------------\n",
    "# ¡No modifiques nada, tan solo introduce tu línea de código¡\n",
    "# Debemos añadir la fecha de inicio y de fin como parámetros\n",
    "def black_scholes(S, K, T, r, sigma, option_type='call'):\n",
    "    ..."
   ]
  },
  {
   "cell_type": "markdown",
   "id": "db152b23-af5d-4798-8b39-16d7170fd50a",
   "metadata": {},
   "source": [
    "<div style=\"background-color: #AED6F1; padding: 10px;\">\n",
    "    <details style=\"color: black;\">\n",
    "        <summary>Solución</summary>\n",
    "    \n",
    "        >> def black_scholes(S, K, T, r, sigma, option_type='call', fecha_inicio, fecha_vencimiento):\n",
    "\n",
    "</div>"
   ]
  },
  {
   "cell_type": "markdown",
   "id": "e1cb8bb7-faa7-45b7-83b7-b40d7fedc391",
   "metadata": {},
   "source": [
    "Ahora debemos extraer la duración de la opción en días, meses y años"
   ]
  },
  {
   "cell_type": "code",
   "execution_count": 36,
   "id": "cb6665d4-bdd2-4e39-924a-ff8c57851a98",
   "metadata": {},
   "outputs": [],
   "source": [
    "# ------------- NO MODIFICAR ESTE CÓDIGO -------------------------\n",
    "# DATOS\n",
    "fecha_inicio = datetime.date(2024, 1, 1) \n",
    "fecha_vencimiento = datetime.date(2025, 5, 5)\n",
    "\n",
    "dias = (fecha_vencimiento - fecha_inicio).days # Hay 490 dias entre inicio y vencimiento\n",
    "\n",
    "# ---------------------- AQUI VA TU CODIGO --------------------\n",
    "# Ahora transforma esos dias en meses y años\n"
   ]
  },
  {
   "cell_type": "markdown",
   "id": "0163207e-5166-4a41-ae0a-e9075281d353",
   "metadata": {},
   "source": [
    "<div style=\"background-color: #AED6F1; padding: 10px;\">\n",
    "    <details style=\"color: black;\">\n",
    "        <summary>Solución</summary>\n",
    "    \n",
    "        >> dias / 365 # = 1.34 años\n",
    "\n",
    "        >> dias / 30 # = 16.33 meses\n",
    "\n",
    "</div>"
   ]
  },
  {
   "cell_type": "markdown",
   "id": "01b29c21-1ae8-48f3-862e-1852de61b428",
   "metadata": {},
   "source": [
    "Juntando todo esto nos da una nueva función tal que:\n",
    "\n",
    "*Ejecuta el código de abajo con Shift + Enter*"
   ]
  },
  {
   "cell_type": "code",
   "execution_count": 48,
   "id": "9267e5b3-e0bd-442a-a21f-a661388bc6b8",
   "metadata": {},
   "outputs": [],
   "source": [
    "# ------------- NO MODIFICAR ESTE CÓDIGO -------------------------\n",
    "import numpy as np\n",
    "from scipy.stats import norm\n",
    "import datetime\n",
    "\n",
    "def calculadora_black_scholes(S, K, r, sigma, fecha_inicio, fecha_vencimiento):\n",
    "\n",
    "    days = (fecha_vencimiento - fecha_inicio).days\n",
    "    months = days / 30.4\n",
    "    years = days / 365\n",
    "\n",
    "    T = years\n",
    "\n",
    "    d1 = (np.log(S / K) + (r + 0.5 * sigma ** 2) * T) / (sigma * np.sqrt(T))\n",
    "    d2 = d1 - sigma * np.sqrt(T)\n",
    "\n",
    "    option_price_call = S * norm.cdf(d1) - K * np.exp(-r * T) * norm.cdf(d2)\n",
    "    option_price_put = K * np.exp(-r * T) * norm.cdf(-d2) - S * norm.cdf(-d1)\n",
    "\n",
    "    return [option_price_call, option_price_put], [d1,d2], [days, months, years]\n"
   ]
  },
  {
   "cell_type": "code",
   "execution_count": 52,
   "id": "df72ed4e-a35e-4d39-8134-cc16d9d9f73e",
   "metadata": {},
   "outputs": [
    {
     "data": {
      "text/plain": [
       "([1.8237043899908096, 1.404261827540032],\n",
       " [0.310501141550413, -0.10350038051680432],\n",
       " [391, 12.86184210526316, 1.0712328767123287])"
      ]
     },
     "execution_count": 52,
     "metadata": {},
     "output_type": "execute_result"
    }
   ],
   "source": [
    "# ------------- NO MODIFICAR ESTE CÓDIGO -------------------------\n",
    "# Este es un ejemplo de como funcionaría\n",
    "\"\"\"\n",
    "Devuelve una matriz\n",
    "( Call price | Put price )\n",
    "(     D1     |    D2     )\n",
    "(  Days | Months | Years )\n",
    "\"\"\"\n",
    "calculadora_black_scholes(10,10,0.04,0.4,datetime.date(2019,5,5), datetime.date(2020,5,30))"
   ]
  },
  {
   "cell_type": "markdown",
   "id": "e64b97bb-7b06-447b-8b2e-d753c98baa9f",
   "metadata": {},
   "source": [
    "Con esta herramienta podríamos valorar múltiples opciones siendo esencial en todos los campos de la matemática financiera.\n",
    "Si el lector lo desea puede probar esta calculadora con muchas opciones para tomar decisiones en base a sus resultados."
   ]
  },
  {
   "cell_type": "code",
   "execution_count": null,
   "id": "977adc42-a383-473f-8d08-4fc18cac0275",
   "metadata": {},
   "outputs": [],
   "source": []
  }
 ],
 "metadata": {
  "kernelspec": {
   "display_name": "py311",
   "language": "python",
   "name": "py311"
  },
  "language_info": {
   "codemirror_mode": {
    "name": "ipython",
    "version": 3
   },
   "file_extension": ".py",
   "mimetype": "text/x-python",
   "name": "python",
   "nbconvert_exporter": "python",
   "pygments_lexer": "ipython3",
   "version": "3.11.7"
  }
 },
 "nbformat": 4,
 "nbformat_minor": 5
}
